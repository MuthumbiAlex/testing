{
 "cells": [
  {
   "cell_type": "code",
   "execution_count": 1,
   "id": "24c1b0d1",
   "metadata": {},
   "outputs": [],
   "source": [
    "from PIL import Image\n",
    "from ipywidgets import interact, fixed"
   ]
  },
  {
   "cell_type": "code",
   "execution_count": 2,
   "id": "813846ca",
   "metadata": {},
   "outputs": [],
   "source": [
    "def im_resized(x, height, ratio=False):\n",
    "    image = Image.open(im)\n",
    "    w,h = image.size\n",
    "    \n",
    "    if ratio: # keep aspect ratio\n",
    "        #resize\n",
    "        asp_ratio = (w/h)\n",
    "        new_width = int(asp_ratio * height)\n",
    "        resized = image.resize((new_width,height))\n",
    "    \n",
    "    # resize image to a square of dimension height*height\n",
    "    else: \n",
    "        resized = image.resize((height, height))\n",
    "    return resized"
   ]
  },
  {
   "cell_type": "code",
   "execution_count": 3,
   "id": "8501bdde",
   "metadata": {},
   "outputs": [],
   "source": [
    "im = r\"C:\\Users\\Roarke\\Desktop\\new.png\""
   ]
  },
  {
   "cell_type": "code",
   "execution_count": 4,
   "id": "f90c00eb",
   "metadata": {},
   "outputs": [
    {
     "data": {
      "application/vnd.jupyter.widget-view+json": {
       "model_id": "8aadcd4ebd994a72bd883ec22bd51c31",
       "version_major": 2,
       "version_minor": 0
      },
      "text/plain": [
       "interactive(children=(IntSlider(value=500, description='height', max=1000, min=100, step=100), Dropdown(descri…"
      ]
     },
     "metadata": {},
     "output_type": "display_data"
    },
    {
     "data": {
      "text/plain": [
       "<function __main__.im_resized(x, height, ratio=False)>"
      ]
     },
     "execution_count": 4,
     "metadata": {},
     "output_type": "execute_result"
    }
   ],
   "source": [
    "interact(im_resized, x=fixed(im), height=(100,1000,100), ratio=[True, False])"
   ]
  },
  {
   "cell_type": "code",
   "execution_count": null,
   "id": "7cc5fc90",
   "metadata": {},
   "outputs": [],
   "source": []
  }
 ],
 "metadata": {
  "kernelspec": {
   "display_name": "myvenv",
   "language": "python",
   "name": "myvenv"
  },
  "language_info": {
   "codemirror_mode": {
    "name": "ipython",
    "version": 3
   },
   "file_extension": ".py",
   "mimetype": "text/x-python",
   "name": "python",
   "nbconvert_exporter": "python",
   "pygments_lexer": "ipython3",
   "version": "3.7.11"
  }
 },
 "nbformat": 4,
 "nbformat_minor": 5
}
